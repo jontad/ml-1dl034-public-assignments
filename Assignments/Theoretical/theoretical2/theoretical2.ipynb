{
 "cells": [
  {
   "cell_type": "markdown",
   "metadata": {},
   "source": [
    "# Tweet classification with naive bayes\n",
    "\n",
    "For this notebook we are going to implement a naive bayes classifier for classifying tweets about Trump or Obama based on the words in the tweet. Recall that for two events A and B the bayes theorem says\n",
    "\n",
    "$$ P(A|B) = \\frac{P(B|A)P(A)}{P(B)} $$\n",
    "\n",
    "where P(A) and P(B) is the ***class probabilities*** and P(B|A) is called ***conditional probabilities***. this gives us the probability of A happening, given that B has occurred. So as an example if we want to find the probability of \"is this a tweet about Trump given that it contains the word \"president\" \" we will obtain the following \n",
    "\n",
    "$$ P(\\text{\"Trump\"}|\\text{\"president\" in tweet}) = \\frac{P(\"\\text{\"president\" in tweet}|\\text{\"Trump\"})P(\\text{\"Trump\"})}{P(\"\\text{\"president\" in tweet})} $$\n",
    "\n",
    "This means that to find the probability of \"is this a tweet about Trump given that it contains the word \"president\" \" we need the probability of \"president\" being in a tweet about Trump, the probability of a tweet being about Trump and the probability of \"president\" being in a tweet. \n",
    "\n",
    "Similarly if we want to obtain the opposite \"is this a tweet about Obama given that it contains the word \"president\" \"\n",
    "we get \n",
    "\n",
    "$$ P(\\text{\"Obama\"}|\\text{\"president\" in tweet}) = \\frac{P(\\text{\"president\" in tweet}|\\text{\"Obama\"})P(\\text{\"Obama\"})}{P(\\text{\"president\" in tweet})} $$\n",
    "\n",
    "where we need the probability of \"president\" being in a tweet about Obama, the probability of a tweet being about Obama and the probability of \"president\" being in a tweet. \n",
    "\n",
    "We can now build a classifier where we compare those two probabilities and whichever is the larger one it's classified as \n",
    "\n",
    "if P(\"Trump\"|\"president\" in tweet) $>$ P(\"Obama\"|\"president\" in tweet)\n",
    "    \n",
    "   Tweet is about Trump\n",
    "\n",
    "else\n",
    "   \n",
    "   Tweet is about Obama\n",
    "\n",
    "Now let's expand this to handle multiple features and put the Naive assumption into bayes theroem. This means that if features are independent we have \n",
    "\n",
    "$$ P(A,B) = P(A)P(B) $$\n",
    "\n",
    "This gives us:\n",
    "\n",
    "$$ P(A|b_1,b_2,...,b_n) = \\frac{P(b_1|A)P(b_2|A)...P(b_n|A)P(A)}{P(b_1)P(b_2)...P(b_n)} $$\n",
    "\n",
    "or\n",
    "\n",
    "$$ P(A|b_1,b_2,...,b_n) = \\frac{\\prod_i^nP(b_i|A)P(A)}{P(b_1)P(b_2)...P(b_n)} $$\n",
    "\n",
    "\n",
    "So with our previous example expanded with more words \"is this a tweet about Trump given that it contains the word \"president\" and \"America\" \" gives us \n",
    "\n",
    "$$ P(\\text{\"Trump\"}|\\text{\"president\", \"America\" in tweet}) = \\frac{P(\\text{\"president\" in tweet}|\\text{\"Trump\"})P(\\text{\"America\" in tweet}|\\text{\"Trump\"})P(\\text{\"Trump\"})}{P(\\text{\"president\" in tweet})P(\\text{\"America\" in tweet})} $$\n",
    "\n",
    "As you can see the denominator remains constant which means we can remove it and the final classifier end up\n",
    "\n",
    "$$y = argmax_A P(A)\\prod_i^nP(b_i|A) $$"
   ]
  },
  {
   "cell_type": "code",
   "execution_count": 3,
   "metadata": {
    "ExecuteTime": {
     "end_time": "2021-01-21T13:33:05.384466Z",
     "start_time": "2021-01-21T13:33:05.376779Z"
    }
   },
   "outputs": [],
   "source": [
    "#stuff to import\n",
    "import pandas as pd\n",
    "import numpy as np\n",
    "import random\n",
    "import sklearn\n",
    "from sklearn.model_selection import train_test_split"
   ]
  },
  {
   "cell_type": "code",
   "execution_count": 2,
   "metadata": {
    "ExecuteTime": {
     "end_time": "2021-01-21T13:33:05.634904Z",
     "start_time": "2021-01-21T13:33:05.628467Z"
    }
   },
   "outputs": [
    {
     "ename": "AssertionError",
     "evalue": "Looks like you don't have the same version of numpy as us!",
     "output_type": "error",
     "traceback": [
      "\u001b[1;31m---------------------------------------------------------------------------\u001b[0m",
      "\u001b[1;31mAssertionError\u001b[0m                            Traceback (most recent call last)",
      "\u001b[1;32m<ipython-input-2-83bd7aa0071c>\u001b[0m in \u001b[0;36m<module>\u001b[1;34m\u001b[0m\n\u001b[0;32m      1\u001b[0m \u001b[1;32massert\u001b[0m \u001b[0mpd\u001b[0m\u001b[1;33m.\u001b[0m\u001b[0m__version__\u001b[0m \u001b[1;33m==\u001b[0m \u001b[1;34m\"1.2.1\"\u001b[0m\u001b[1;33m,\u001b[0m \u001b[1;34m\"Looks like you don't have the same version of pandas as us!\"\u001b[0m\u001b[1;33m\u001b[0m\u001b[1;33m\u001b[0m\u001b[0m\n\u001b[1;32m----> 2\u001b[1;33m \u001b[1;32massert\u001b[0m \u001b[0mnp\u001b[0m\u001b[1;33m.\u001b[0m\u001b[0m__version__\u001b[0m \u001b[1;33m==\u001b[0m \u001b[1;34m\"1.19.4\"\u001b[0m\u001b[1;33m,\u001b[0m \u001b[1;34m\"Looks like you don't have the same version of numpy as us!\"\u001b[0m\u001b[1;33m\u001b[0m\u001b[1;33m\u001b[0m\u001b[0m\n\u001b[0m\u001b[0;32m      3\u001b[0m \u001b[1;32massert\u001b[0m \u001b[0msklearn\u001b[0m\u001b[1;33m.\u001b[0m\u001b[0m__version__\u001b[0m \u001b[1;33m==\u001b[0m \u001b[1;34m\"0.24.0\"\u001b[0m\u001b[1;33m,\u001b[0m \u001b[1;34m\"Looks like you don't have the same version of sklearn as us!\"\u001b[0m\u001b[1;33m\u001b[0m\u001b[1;33m\u001b[0m\u001b[0m\n",
      "\u001b[1;31mAssertionError\u001b[0m: Looks like you don't have the same version of numpy as us!"
     ]
    }
   ],
   "source": [
    "assert pd.__version__ == \"1.2.1\", \"Looks like you don't have the same version of pandas as us!\"\n",
    "assert np.__version__ == \"1.19.4\", \"Looks like you don't have the same version of numpy as us!\"\n",
    "assert sklearn.__version__ == \"0.24.0\", \"Looks like you don't have the same version of sklearn as us!\""
   ]
  },
  {
   "cell_type": "markdown",
   "metadata": {},
   "source": [
    "Load the data and explore"
   ]
  },
  {
   "cell_type": "code",
   "execution_count": 5,
   "metadata": {
    "ExecuteTime": {
     "end_time": "2021-01-21T13:30:18.885001Z",
     "start_time": "2021-01-21T13:30:18.675615Z"
    }
   },
   "outputs": [],
   "source": [
    "df_t = pd.read_csv('trump_20200530.csv')\n",
    "trump_tweets = df_t['text']\n",
    "\n",
    "df_t = pd.read_csv('Tweets-BarackObama.csv')\n",
    "obama_tweets = df_t['Tweet-text']\n",
    "\n",
    "tweet_data = trump_tweets.append(obama_tweets, ignore_index=True)\n",
    "tweet_labels = np.array(['T' for _ in range(len(trump_tweets))] + ['O' for _ in range(len(obama_tweets))])\n"
   ]
  },
  {
   "cell_type": "code",
   "execution_count": 6,
   "metadata": {
    "ExecuteTime": {
     "end_time": "2021-01-21T13:30:20.197890Z",
     "start_time": "2021-01-21T13:30:20.181611Z"
    }
   },
   "outputs": [
    {
     "name": "stdout",
     "output_type": "stream",
     "text": [
      "Number of tweets about  O :  6851\n",
      "Number of tweets about  T :  18467\n"
     ]
    }
   ],
   "source": [
    "lab, counts = np.unique(tweet_labels, return_counts=True)\n",
    "print('Number of tweets about ', lab[0], ': ', counts[0])\n",
    "print('Number of tweets about ', lab[1], ': ', counts[1])"
   ]
  },
  {
   "cell_type": "markdown",
   "metadata": {},
   "source": [
    "As you can see we have many more Trump than Obama Tweets so simlpy guessing that a tweet is a Trump tweet already gives you a classifier that is correct about 70% of the time, but we can do better than this.\n",
    "\n",
    "Now lets split the data into a training set and a test set using scikit-learns train_test_split function \n",
    "https://scikit-learn.org/stable/modules/generated/sklearn.model_selection.train_test_split.html\n"
   ]
  },
  {
   "cell_type": "code",
   "execution_count": 7,
   "metadata": {
    "ExecuteTime": {
     "end_time": "2021-01-21T13:30:22.469848Z",
     "start_time": "2021-01-21T13:30:22.450611Z"
    }
   },
   "outputs": [],
   "source": [
    "#Split data into train_tweets, test_tweets, train_labels and test_labels\n",
    "\n",
    "from sklearn.model_selection import train_test_split\n",
    "\n",
    "train_tweets, test_tweets, train_labels, test_labels = train_test_split(\n",
    "     tweet_data, tweet_labels\n",
    ")\n"
   ]
  },
  {
   "cell_type": "markdown",
   "metadata": {},
   "source": [
    "What we need to build our classifier is \"probability of tweet about Obama\" P(O) , \"probability of tweet about Trump\" P(T), \"probability of word in tweet given tweet about Obama\" P(w|O) and \"probability of word in tweet given tweet about Trump\" P(w|T). Start by calculating the probability that a tweet is about Obama and trump respectively "
   ]
  },
  {
   "cell_type": "code",
   "execution_count": 8,
   "metadata": {},
   "outputs": [],
   "source": [
    "o_label = [label for label in train_labels if label=='O']\n",
    "\n",
    "P_O = len(o_label)/len(tweet_labels) \n",
    "P_T = 1 - P_O\n"
   ]
  },
  {
   "cell_type": "markdown",
   "metadata": {},
   "source": [
    "For P(w|O), P(w|T) we need to count how many tweets each word occur in. Count the number of tweets each word occurs in and store in the word counter. An entry in the word counter is for instance  {'president': 'O':87, 'T': 100} meaning president occurs in 87 words about Obaman and 100 tweets about Trump. Be aware that we are not interested in calculating multiple occurances of the same word in the same tweet.  For each word convert it to lower case. You can use Python's [lower](https://www.w3schools.com/python/ref_string_lower.asp). Another handy Python string method is [split](https://www.w3schools.com/python/ref_string_split.asp)."
   ]
  },
  {
   "cell_type": "code",
   "execution_count": 9,
   "metadata": {},
   "outputs": [],
   "source": [
    "word_counter = {}\n",
    "for (tweet, label) in zip(train_tweets, train_labels):\n",
    "# ... Count number of tweets each word occurs in and store in word_counter where an entry looks like ex. {'word': 'O':98, 'T':10}\n",
    "    words = tweet.lower().split()\n",
    "    for word in words:              \n",
    "        if word in word_counter:  \n",
    "            word_counter[word][label] = word_counter[word][label] + 1\n",
    "        else: \n",
    "            word_counter[word] = {}\n",
    "            if label == 'O':\n",
    "                word_counter[word]['O'] = 1\n",
    "                word_counter[word]['T'] = 0\n",
    "            else:\n",
    "                word_counter[word]['T'] = 1\n",
    "                word_counter[word]['O'] = 0\n",
    "    "
   ]
  },
  {
   "cell_type": "markdown",
   "metadata": {},
   "source": [
    "Lets work with a smaller subset of words. Find the 100 most occuring words in tweet data."
   ]
  },
  {
   "cell_type": "code",
   "execution_count": 10,
   "metadata": {},
   "outputs": [
    {
     "name": "stdout",
     "output_type": "stream",
     "text": [
      "['the', 'to', 'and', 'of', 'a', 'in', 'is', 'for', 'rt', 'on', 'that', 'our', 'are', 'will', 'we', 'with', 'i', 'be', 'you', 'this', 'have', 'president', 'great', 'it', 'they', '&amp;', 'obama', 'at', 'has', 'was', 'not', 'by', 'all', 'he', 'from', 'as', 'people', 'who', 'your', 'no', 'very', 'just', 'more', 'my', 'their', '—president', 'about', 'so', 'if', 'his', 'thank', 'but', 'democrats', 'get', 'do', 'now', 'an', 'new', 'than', 'trump', 'what', 'been', '-', 'up', 'out', 'time', 'should', 'american', 'or', 'news', 'big', 'can', 'would', 'fake', 'make', 'many', 'want', 'there', 'never', 'one', 'today', 'america', 'country', 'when', 'good', '@realdonaldtrump', 'house', 'u.s.', 'congress', 'me', '@realdonaldtrump:', 'going', 'much', 'united', 'how', 'like', 'even', 'states', 'years', 'over']\n"
     ]
    }
   ],
   "source": [
    "nr_of_words_to_use = 100\n",
    "popular_words = sorted(word_counter.items(), key=lambda x: x[1]['O'] + x[1]['T'], reverse=True)\n",
    "popular_words = [x[0] for x in popular_words[:nr_of_words_to_use]]\n",
    "\n",
    "print(popular_words)"
   ]
  },
  {
   "cell_type": "markdown",
   "metadata": {},
   "source": [
    "Now lets compute P(w|O), P(w|T) for the popular words"
   ]
  },
  {
   "cell_type": "code",
   "execution_count": 12,
   "metadata": {},
   "outputs": [
    {
     "name": "stdout",
     "output_type": "stream",
     "text": [
      "0.817423030787685\n",
      "0.7451770556460602\n",
      "0.8635844748858448\n",
      "0.8223675934079758\n",
      "0.7904406686006354\n",
      "0.7925889490080341\n",
      "0.8020780105603815\n",
      "0.7609176896759912\n",
      "0.9891914362918313\n",
      "0.7618037135278515\n",
      "0.8513813909177517\n",
      "0.7971298108284409\n",
      "0.8512837612537513\n",
      "0.9081002542680712\n",
      "0.7717311906501095\n",
      "0.8911764705882353\n",
      "0.9125925925925926\n",
      "0.8485074626865672\n",
      "0.7181372549019608\n",
      "0.7268439108061749\n",
      "0.8284971849285405\n",
      "0.5899912203687445\n",
      "0.9761467889908257\n",
      "0.881145584725537\n",
      "0.9395491803278688\n",
      "1.0\n",
      "0.1387862796833773\n",
      "0.7952254641909814\n",
      "0.8790137614678899\n",
      "0.9458041958041958\n",
      "0.8528428093645485\n",
      "0.8700947225981055\n",
      "0.8439620081411127\n",
      "0.965948575399583\n",
      "0.7555379746835443\n",
      "0.8428338762214984\n",
      "0.8378600823045268\n",
      "0.829477292202228\n",
      "0.4850877192982456\n",
      "0.8862433862433863\n",
      "0.9866903283052352\n",
      "0.8638412984670875\n",
      "0.6706864564007421\n",
      "0.9276437847866419\n",
      "0.8200562324273665\n",
      "0.0\n",
      "0.7034938621340887\n",
      "0.9243295019157088\n",
      "0.6151603498542274\n",
      "0.8661899897854954\n",
      "0.9821802935010482\n",
      "0.8804232804232804\n",
      "0.9914529914529915\n",
      "0.7058823529411765\n",
      "0.8141783029001074\n",
      "0.8378088077336198\n",
      "0.787350054525627\n",
      "0.7991021324354658\n",
      "0.7448036951501155\n",
      "1.0\n",
      "0.7707838479809976\n",
      "0.899880810488677\n",
      "0.9928143712574851\n",
      "0.7544910179640718\n",
      "0.772782503037667\n",
      "0.6012422360248447\n",
      "0.7777777777777778\n",
      "0.7761394101876675\n",
      "0.8812415654520918\n",
      "0.9736842105263158\n",
      "0.9263888888888889\n",
      "0.6174402250351617\n",
      "0.873015873015873\n",
      "0.9985422740524781\n",
      "0.6180758017492711\n",
      "0.9437869822485208\n",
      "0.8144796380090498\n",
      "0.9150943396226415\n",
      "0.9478672985781991\n",
      "0.7222222222222222\n",
      "0.7479406919275123\n",
      "0.7567114093959731\n",
      "0.8134453781512605\n",
      "0.8172413793103448\n",
      "0.8243478260869566\n",
      "1.0\n",
      "0.8242530755711776\n",
      "0.9141323792486583\n",
      "0.43447037701974867\n",
      "0.9311663479923518\n",
      "1.0\n",
      "0.8236472945891784\n",
      "0.9356136820925554\n",
      "0.907258064516129\n",
      "0.6693548387096774\n",
      "0.8404040404040404\n",
      "0.9241803278688525\n",
      "0.8568421052631578\n",
      "0.8276595744680851\n",
      "0.832258064516129\n"
     ]
    }
   ],
   "source": [
    "P_w_given_t = {}\n",
    "P_w_given_o = {}\n",
    "for w in popular_words:\n",
    "    word = word_counter[w]\n",
    "    obama = word['O']\n",
    "    trump = word['T']\n",
    "    \n",
    "    tot = obama + trump\n",
    "    \n",
    "    perc_obama = obama/tot\n",
    "    perc_trump = trump/tot\n",
    "    \n",
    "    P_w_given_o[w] = perc_obama\n",
    "    P_w_given_t[w] = perc_trump\n",
    "    \n",
    "    \n",
    "    print(P_w_given_t[w])"
   ]
  },
  {
   "cell_type": "code",
   "execution_count": 28,
   "metadata": {},
   "outputs": [],
   "source": [
    "classifier = {\n",
    "    'basis'  : popular_words,\n",
    "    'P(T)'   : P_O,\n",
    "    'P(O)'   : P_T,\n",
    "    'P(w|O)' : P_w_given_o,\n",
    "    'P(w|T)' : P_w_given_t\n",
    "    }   "
   ]
  },
  {
   "cell_type": "markdown",
   "metadata": {},
   "source": [
    "Write a tweet_classifier function that takes your trained classifier and a tweet and returns wether it's about Trump or Obama unsing the popular words selected. Note that if there are words in the basis words in our classifier that are not in the tweet we have the opposite probabilities i.e P(w_1 occurs )*  P(w_2 does not occur) * .... if w_1 occurs and w_2 does not occur. The function should return wether the tweet is about Obama or Trump i.e 'T' or 'O'"
   ]
  },
  {
   "cell_type": "code",
   "execution_count": 29,
   "metadata": {},
   "outputs": [],
   "source": [
    "def tweet_classifier(tweet, classifier_dict):\n",
    "    \"\"\" param tweet: string containing tweet message\n",
    "        param classifier: dict containing 'basis' - training words\n",
    "                                          'P(T)' - class probabilities\n",
    "                                          'P(O)' - class probabilities\n",
    "                                          'P(w|O)' - conditional probabilities\n",
    "                                          'P(w|T)' - conditional probabilities\n",
    "        \n",
    "        return: either 'T' or 'O'\n",
    "    \"\"\"\n",
    "    words_in_tweet = np.unique([x.lower() for x in tweet.split()])\n",
    "    \n",
    "    # ... Code for classifying tweets using the naive bayes classifier\n",
    "    prob_trump = 1\n",
    "    prob_obama = 1\n",
    "    for word in words_in_tweet:\n",
    "        if word in P_w_given_t: \n",
    "            t = P_w_given_t[word]\n",
    "            prob_trump = prob_trump*t\n",
    "        \n",
    "        if word in P_w_given_o:\n",
    "            o = P_w_given_o[word]\n",
    "            prob_obama = prob_obama*o\n",
    "\n",
    "    if prob_obama*P_O > prob_trump*P_T:\n",
    "        return 'O'\n",
    "    else:\n",
    "        return 'T'\n",
    "    \n",
    "        \n",
    "        "
   ]
  },
  {
   "cell_type": "code",
   "execution_count": 30,
   "metadata": {},
   "outputs": [],
   "source": [
    "def test_classifier(classifier, test_tweets, test_labels):\n",
    "    total = len(test_tweets)\n",
    "    correct = 0\n",
    "    for (tweet,label) in zip(test_tweets, test_labels):\n",
    "        predicted = tweet_classifier(tweet,classifier)\n",
    "        if predicted == label:\n",
    "            correct = correct + 1\n",
    "    return(correct/total)"
   ]
  },
  {
   "cell_type": "code",
   "execution_count": 31,
   "metadata": {},
   "outputs": [
    {
     "name": "stdout",
     "output_type": "stream",
     "text": [
      "Accuracy: 0.7834\n"
     ]
    }
   ],
   "source": [
    "acc = test_classifier(classifier, test_tweets, test_labels)\n",
    "print(f\"Accuracy: {acc:.4f}\")"
   ]
  },
  {
   "cell_type": "code",
   "execution_count": null,
   "metadata": {},
   "outputs": [],
   "source": []
  }
 ],
 "metadata": {
  "kernelspec": {
   "display_name": "Python 3",
   "language": "python",
   "name": "python3"
  },
  "language_info": {
   "codemirror_mode": {
    "name": "ipython",
    "version": 3
   },
   "file_extension": ".py",
   "mimetype": "text/x-python",
   "name": "python",
   "nbconvert_exporter": "python",
   "pygments_lexer": "ipython3",
   "version": "3.7.9"
  }
 },
 "nbformat": 4,
 "nbformat_minor": 4
}
