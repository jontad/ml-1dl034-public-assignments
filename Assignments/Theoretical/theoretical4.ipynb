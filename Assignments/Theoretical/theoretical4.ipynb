{
 "cells": [
  {
   "cell_type": "code",
   "execution_count": 1,
   "metadata": {
    "ExecuteTime": {
     "end_time": "2021-02-09T09:36:17.061125Z",
     "start_time": "2021-02-09T09:36:16.076179Z"
    }
   },
   "outputs": [
    {
     "ename": "ModuleNotFoundError",
     "evalue": "No module named 'treelib'",
     "output_type": "error",
     "traceback": [
      "\u001b[1;31m---------------------------------------------------------------------------\u001b[0m",
      "\u001b[1;31mModuleNotFoundError\u001b[0m                       Traceback (most recent call last)",
      "\u001b[1;32m<ipython-input-1-8982a3c26615>\u001b[0m in \u001b[0;36m<module>\u001b[1;34m\u001b[0m\n\u001b[0;32m      3\u001b[0m \u001b[1;32mimport\u001b[0m \u001b[0mmatplotlib\u001b[0m\u001b[1;33m.\u001b[0m\u001b[0mticker\u001b[0m \u001b[1;32mas\u001b[0m \u001b[0mmtick\u001b[0m\u001b[1;33m\u001b[0m\u001b[1;33m\u001b[0m\u001b[0m\n\u001b[0;32m      4\u001b[0m \u001b[1;32mimport\u001b[0m \u001b[0mpandas\u001b[0m \u001b[1;32mas\u001b[0m \u001b[0mpd\u001b[0m\u001b[1;33m\u001b[0m\u001b[1;33m\u001b[0m\u001b[0m\n\u001b[1;32m----> 5\u001b[1;33m \u001b[1;32mfrom\u001b[0m \u001b[0mtreelib\u001b[0m \u001b[1;32mimport\u001b[0m \u001b[0mNode\u001b[0m\u001b[1;33m,\u001b[0m \u001b[0mTree\u001b[0m\u001b[1;33m\u001b[0m\u001b[1;33m\u001b[0m\u001b[0m\n\u001b[0m",
      "\u001b[1;31mModuleNotFoundError\u001b[0m: No module named 'treelib'"
     ]
    }
   ],
   "source": [
    "import numpy as np\n",
    "import matplotlib.pyplot as plt\n",
    "import matplotlib.ticker as mtick\n",
    "import pandas as pd\n",
    "from treelib import Node, Tree"
   ]
  },
  {
   "cell_type": "markdown",
   "metadata": {},
   "source": [
    "## Introduction to the entropy\n",
    "\n",
    "Entropy is a measure of information, used in many fields, including physics, statistics and machine learning. It describe how much order or disorder there is in random variables (r.v.) or sequences. For instance, if Alice tosses a fair coin and records the result, how many bits of information does she need to send to Bob so that he knows the result as well? He needs exactly one bit (0 = heads, 1 = tail) on average. We always assume they both know what the setup of the experiment is.\n",
    "\n",
    "The entropy is written $H(x)$ and is defined as:\n",
    "$H(x) = \\mathbb{E}[-log_2(x)] = - \\Sigma_{i=1}^N p(x_i) log_2(p(x_i))$.\n",
    "\n",
    "A bit of intuition:\n",
    "1. As a measure of information, we want the entropy to be additive. If you get one e-mail, you get n bits of information, if you get two e-mails, you get n+m bits of information. Unfortunately, when two independant random variables are realized, they are multiplied together : $p(x_a \\cap x_b) = p(x_a)p(x_b)$. In order to make them additive, the logarithm function can be used: $\\log p(x_a \\cap x_b) = \\log p(x_a) + \\log p(x_b)$. \n",
    "2. The rarer the event, the more information must be transferred when it occurs. For instance, if a coin is rigged and always gives tail, Alice doesn't even need to send anything to Bob, since he already know that it will be tail. Remember that both Alice and Bob know the exact setup of the experiment. Newspaper tend to follow this trend as well: they don't talk about how the sun will rise this morning, talk a bit about the weather forecast (a few numbers) but might dedicate a full page to the new, shiney and overhyped tv-series dedicated to the life of Carl XVI Gustaf. So the amount of information is invertly proportional to the probability: $1/p(x)$.\n",
    "3. So far we have $log_2(1/(p(x)) = -log_2(p(x))$, and we take its expectation such that it gives the average information in a random variable. Note that the base of the log is arbitrary, you will often see either $e$ or $2$ as a base. I personnaly enjoy using $log_2$ because the entropy will be in bits which is easier to interpret (with $e$, the entropy will be in nats).\n",
    "\n"
   ]
  },
  {
   "cell_type": "markdown",
   "metadata": {},
   "source": [
    "### Exercise: Entropy of the Normal distribution\n",
    "\n",
    "Calculate the (base 2) entropy of a Normal distribution.\n",
    "\n",
    "The pdf of the Normal distribution is: $\\exp(-\\frac{(x-\\mu)^2}{2\\sigma^2}) / \\sqrt{2 \\pi \\sigma^2}$.\n",
    "You need to find: $\\mathbb{E}[-log_2(\\exp(-\\frac{(x-\\mu)^2}{2\\sigma^2}) / \\sqrt{2 \\pi \\sigma^2})]$\n",
    "Do it step-by-step, first the log (base 2), then flip the signs, then take the expectation of the remaining formula.\n",
    "\n",
    "The result will be: $\\frac{1}{2} log_2(2 \\pi e \\sigma^2)$\n",
    "\n",
    "Formulas to use (or not, as you want, who am I to dictate anything?):\n",
    "* $\\log_2(a*b) = \\log_2(a) + \\log_2(b)$\n",
    "* $\\log_2(x) = \\log(x)/\\log(2)$\n",
    "* $\\log_2(\\exp(u)) = u/\\log(2)$. Be careful!! The $\\log_2$ is no longer base 2 in the right hand side, but base $e$.\n",
    "* $\\mathbb{E}[ax + by] = a\\mathbb{E}[x] + b\\mathbb{E}[y]$. That means that all the constants go out of the expectation. In this case, both $\\mu$ and $\\sigma^2$ are constants. $x$ is not constant.\n",
    "* $\\mathbb{E}[x] = \\mu$ and $\\mathbb{V}[x] = \\sigma^2$.\n",
    "* $\\mathbb{E}[(x - \\mu)^2 / \\sigma^2] = \\mathbb{E}[(x - \\mu)^2] / \\sigma^2 = \\mathbb{V}[x] / \\sigma^2 = \\sigma^2/\\sigma^2 = 1$\n",
    "* $1/\\log(2) = \\log_2(2^{1/log(2)}) = \\log_2(e)$\n",
    "\n"
   ]
  },
  {
   "cell_type": "code",
   "execution_count": 2,
   "metadata": {},
   "outputs": [],
   "source": [
    "def entropy_normal_distribution(sigma):\n",
    "    pi = np.pi\n",
    "    e = np.exp(1)    \n",
    "    x = 2*pi*e*(sigma**2)\n",
    "    \n",
    "    log_2 = (1/2)*(np.log(x)/np.log(2))\n",
    "       \n",
    "    return log_2\n",
    "    "
   ]
  },
  {
   "cell_type": "markdown",
   "metadata": {},
   "source": [
    "Now that you have found the entropy of a normal distribution we can wonder about the intuitive meaning of the thing. First, the entropy has only one variable: $\\sigma^2$. Let's imagine a friend of yours invented a new die that, when tossed gives you a random number sampled from a normal distribution (rounded to the nearest integer). He calls it the Normal Die ™️ (confusing name, I know, there's already a lot of hatred for the normal distribution being called that way). Like for a regular die, where you know the probability of each face, you are given the mean and the variance. If I buy one such die, and toss it, how many bits do I need to send to you for you to know which value is displayed on the die? The entropy formula gives you that, but:\n",
    "* If the mean is 0, 20 or -37, the entropy doesn't change. This is because you know the mean is common knowledge, and your friend only needs to send the deviation from the mean to you. If the mean is 20, he tosses the dice and get 24, but only needs to send 24-20=+4 (2 bits, plus a sign bit = 3 bits in total) to you. When you get the result: +4, you just have to add the mean to recover the true number. Remember that the mean and variance are common knowledge.\n",
    "* The bigger $\\sigma^2$, the bigger the variance and the more bits I need to send to you.\n",
    "This is what the formula above states, meaning entropy is also a measure of uncertainty. More variance means more bits to send, so a bigger entropy.\n",
    "\n",
    "Advanced note: you might notice that if the variance is 0, the log is negative ($- \\infty$) do not get confused, and just considered that negative entropies get clipped to 0 bits. This works because we rounded the values generated by the continuous normal distribution."
   ]
  },
  {
   "cell_type": "code",
   "execution_count": 62,
   "metadata": {},
   "outputs": [],
   "source": [
    "x = np.linspace(0, 1, 1000)\n",
    "l = ma.log(x)\n",
    "l = ma.filled(l, 0)\n"
   ]
  },
  {
   "cell_type": "code",
   "execution_count": 75,
   "metadata": {
    "ExecuteTime": {
     "end_time": "2021-02-09T09:36:45.395767Z",
     "start_time": "2021-02-09T09:36:45.224355Z"
    }
   },
   "outputs": [
    {
     "name": "stdout",
     "output_type": "stream",
     "text": [
      "[        nan -0.00997432 -0.01794663 -0.0251633  -0.03188925 -0.03825031\n",
      " -0.04432059 -0.05014905 -0.0557705  -0.06121095 -0.06649062 -0.07162563\n",
      " -0.07662917 -0.08151223 -0.08628409 -0.09095271 -0.09552498 -0.10000693\n",
      " -0.10440389 -0.10872057 -0.11296122 -0.11712962 -0.12122923 -0.12526318\n",
      " -0.12923432 -0.13314526 -0.13699843 -0.14079604 -0.14454015 -0.14823267\n",
      " -0.15187538 -0.15546995 -0.15901793 -0.16252076 -0.16597983 -0.16939642\n",
      " -0.17277174 -0.17610694 -0.17940311 -0.18266127 -0.18588239 -0.18906741\n",
      " -0.1922172  -0.19533261 -0.19841442 -0.20146341 -0.20448031 -0.20746581\n",
      " -0.21042058 -0.21334527 -0.21624047 -0.2191068  -0.2219448  -0.22475504\n",
      " -0.22753802 -0.23029426 -0.23302424 -0.23572843 -0.23840728 -0.24106123\n",
      " -0.24369071 -0.24629611 -0.24887784 -0.25143628 -0.25397179 -0.25648473\n",
      " -0.25897546 -0.26144431 -0.2638916  -0.26631765 -0.26872277 -0.27110726\n",
      " -0.27347141 -0.27581551 -0.27813981 -0.28044461 -0.28273015 -0.28499668\n",
      " -0.28724446 -0.28947372 -0.29168471 -0.29387764 -0.29605274 -0.29821023\n",
      " -0.30035032 -0.30247322 -0.30457912 -0.30666824 -0.30874075 -0.31079686\n",
      " -0.31283674 -0.31486057 -0.31686853 -0.31886079 -0.32083753 -0.3227989\n",
      " -0.32474507 -0.32667619 -0.32859243 -0.33049393 -0.33238085 -0.33425332\n",
      " -0.3361115  -0.33795551 -0.33978551 -0.34160161 -0.34340397 -0.3451927\n",
      " -0.34696793 -0.34872979 -0.35047841 -0.35221389 -0.35393636 -0.35564594\n",
      " -0.35734274 -0.35902687 -0.36069844 -0.36235757 -0.36400435 -0.36563889\n",
      " -0.36726129 -0.36887166 -0.3704701  -0.3720567  -0.37363156 -0.37519477\n",
      " -0.37674643 -0.37828662 -0.37981545 -0.38133299 -0.38283934 -0.38433458\n",
      " -0.38581879 -0.38729206 -0.38875448 -0.39020612 -0.39164706 -0.39307738\n",
      " -0.39449716 -0.39590648 -0.3973054  -0.39869402 -0.40007238 -0.40144058\n",
      " -0.40279868 -0.40414675 -0.40548487 -0.40681309 -0.40813148 -0.40944012\n",
      " -0.41073907 -0.41202838 -0.41330814 -0.41457839 -0.41583921 -0.41709064\n",
      " -0.41833276 -0.41956562 -0.42078929 -0.42200381 -0.42320925 -0.42440567\n",
      " -0.42559311 -0.42677164 -0.42794131 -0.42910218 -0.43025429 -0.43139771\n",
      " -0.43253247 -0.43365864 -0.43477626 -0.43588539 -0.43698608 -0.43807837\n",
      " -0.43916231 -0.44023795 -0.44130533 -0.44236452 -0.44341554 -0.44445845\n",
      " -0.44549329 -0.44652011 -0.44753895 -0.44854986 -0.44955287 -0.45054804\n",
      " -0.4515354  -0.45251499 -0.45348687 -0.45445106 -0.45540761 -0.45635656\n",
      " -0.45729794 -0.45823181 -0.4591582  -0.46007714 -0.46098867 -0.46189284\n",
      " -0.46278967 -0.46367921 -0.4645615  -0.46543656 -0.46630444 -0.46716517\n",
      " -0.46801879 -0.46886532 -0.46970481 -0.4705373  -0.4713628  -0.47218136\n",
      " -0.47299302 -0.47379779 -0.47459572 -0.47538684 -0.47617118 -0.47694877\n",
      " -0.47771965 -0.47848383 -0.47924137 -0.47999228 -0.48073659 -0.48147434\n",
      " -0.48220556 -0.48293027 -0.4836485  -0.48436029 -0.48506566 -0.48576464\n",
      " -0.48645725 -0.48714353 -0.48782351 -0.48849721 -0.48916466 -0.48982588\n",
      " -0.4904809  -0.49112975 -0.49177246 -0.49240904 -0.49303954 -0.49366396\n",
      " -0.49428235 -0.49489471 -0.49550109 -0.49610149 -0.49669596 -0.4972845\n",
      " -0.49786715 -0.49844393 -0.49901487 -0.49957997 -0.50013929 -0.50069282\n",
      " -0.5012406  -0.50178265 -0.50231899 -0.50284964 -0.50337464 -0.50389399\n",
      " -0.50440772 -0.50491585 -0.50541841 -0.50591542 -0.50640689 -0.50689285\n",
      " -0.50737331 -0.50784831 -0.50831786 -0.50878198 -0.50924069 -0.50969401\n",
      " -0.51014197 -0.51058457 -0.51102185 -0.51145381 -0.51188049 -0.51230189\n",
      " -0.51271805 -0.51312897 -0.51353468 -0.51393519 -0.51433053 -0.51472071\n",
      " -0.51510575 -0.51548567 -0.51586048 -0.51623022 -0.51659488 -0.5169545\n",
      " -0.51730908 -0.51765865 -0.51800322 -0.51834281 -0.51867744 -0.51900712\n",
      " -0.51933188 -0.51965172 -0.51996667 -0.52027674 -0.52058194 -0.5208823\n",
      " -0.52117783 -0.52146855 -0.52175447 -0.5220356  -0.52231197 -0.52258359\n",
      " -0.52285048 -0.52311264 -0.5233701  -0.52362288 -0.52387097 -0.52411441\n",
      " -0.52435321 -0.52458738 -0.52481693 -0.52504189 -0.52526226 -0.52547806\n",
      " -0.52568931 -0.52589601 -0.52609819 -0.52629585 -0.52648901 -0.52667769\n",
      " -0.5268619  -0.52704165 -0.52721696 -0.52738784 -0.5275543  -0.52771636\n",
      " -0.52787403 -0.52802732 -0.52817625 -0.52832083 -0.52846108 -0.528597\n",
      " -0.52872861 -0.52885592 -0.52897894 -0.5290977  -0.52921219 -0.52932243\n",
      " -0.52942845 -0.52953023 -0.52962781 -0.52972119 -0.52981038 -0.5298954\n",
      " -0.52997626 -0.53005297 -0.53012554 -0.53019398 -0.53025831 -0.53031854\n",
      " -0.53037468 -0.53042673 -0.53047472 -0.53051865 -0.53055854 -0.53059439\n",
      " -0.53062622 -0.53065404 -0.53067786 -0.53069769 -0.53071354 -0.53072542\n",
      " -0.53073335 -0.53073733 -0.53073738 -0.5307335  -0.53072571 -0.53071401\n",
      " -0.53069842 -0.53067895 -0.53065561 -0.53062841 -0.53059736 -0.53056246\n",
      " -0.53052374 -0.53048119 -0.53043483 -0.53038468 -0.53033073 -0.530273\n",
      " -0.5302115  -0.53014625 -0.53007724 -0.53000448 -0.529928   -0.5298478\n",
      " -0.52976388 -0.52967626 -0.52958495 -0.52948995 -0.52939128 -0.52928894\n",
      " -0.52918295 -0.5290733  -0.52896003 -0.52884312 -0.52872259 -0.52859846\n",
      " -0.52847072 -0.52833939 -0.52820448 -0.52806599 -0.52792393 -0.52777832\n",
      " -0.52762916 -0.52747646 -0.52732024 -0.52716048 -0.52699722 -0.52683045\n",
      " -0.52666018 -0.52648642 -0.52630919 -0.52612848 -0.52594431 -0.52575668\n",
      " -0.52556561 -0.5253711  -0.52517316 -0.5249718  -0.52476702 -0.52455884\n",
      " -0.52434726 -0.52413229 -0.52391394 -0.52369221 -0.52346711 -0.52323866\n",
      " -0.52300686 -0.52277172 -0.52253323 -0.52229143 -0.5220463  -0.52179786\n",
      " -0.52154611 -0.52129107 -0.52103274 -0.52077113 -0.52050624 -0.52023808\n",
      " -0.51996667 -0.519692   -0.51941409 -0.51913293 -0.51884855 -0.51856095\n",
      " -0.51827012 -0.51797609 -0.51767886 -0.51737843 -0.51707482 -0.51676802\n",
      " -0.51645805 -0.51614491 -0.51582861 -0.51550916 -0.51518656 -0.51486083\n",
      " -0.51453196 -0.51419996 -0.51386485 -0.51352662 -0.51318529 -0.51284085\n",
      " -0.51249333 -0.51214272 -0.51178903 -0.51143227 -0.51107244 -0.51070956\n",
      " -0.51034361 -0.50997463 -0.5096026  -0.50922754 -0.50884945 -0.50846834\n",
      " -0.50808421 -0.50769708 -0.50730695 -0.50691381 -0.50651769 -0.50611858\n",
      " -0.5057165  -0.50531145 -0.50490343 -0.50449245 -0.50407851 -0.50366163\n",
      " -0.50324181 -0.50281906 -0.50239337 -0.50196476 -0.50153323 -0.5010988\n",
      " -0.50066145 -0.50022121 -0.49977807 -0.49933204 -0.49888313 -0.49843135\n",
      " -0.49797669 -0.49751917 -0.49705879 -0.49659555 -0.49612947 -0.49566054\n",
      " -0.49518878 -0.49471418 -0.49423676 -0.49375652 -0.49327346 -0.49278759\n",
      " -0.49229892 -0.49180745 -0.49131319 -0.49081614 -0.4903163  -0.48981369\n",
      " -0.48930831 -0.48880016 -0.48828925 -0.48777558 -0.48725917 -0.48674\n",
      " -0.4862181  -0.48569346 -0.48516609 -0.484636   -0.48410319 -0.48356766\n",
      " -0.48302943 -0.48248848 -0.48194484 -0.48139851 -0.48084949 -0.48029778\n",
      " -0.47974339 -0.47918633 -0.4786266  -0.4780642  -0.47749915 -0.47693144\n",
      " -0.47636108 -0.47578807 -0.47521243 -0.47463415 -0.47405324 -0.4734697\n",
      " -0.47288354 -0.47229477 -0.47170338 -0.47110939 -0.4705128  -0.46991361\n",
      " -0.46931182 -0.46870745 -0.4681005  -0.46749096 -0.46687885 -0.46626418\n",
      " -0.46564693 -0.46502713 -0.46440477 -0.46377986 -0.4631524  -0.4625224\n",
      " -0.46188986 -0.46125479 -0.46061719 -0.45997706 -0.45933442 -0.45868925\n",
      " -0.45804158 -0.4573914  -0.45673872 -0.45608353 -0.45542586 -0.45476569\n",
      " -0.45410304 -0.45343791 -0.45277029 -0.45210021 -0.45142766 -0.45075264\n",
      " -0.45007517 -0.44939523 -0.44871285 -0.44802802 -0.44734074 -0.44665103\n",
      " -0.44595888 -0.4452643  -0.44456729 -0.44386785 -0.443166   -0.44246174\n",
      " -0.44175506 -0.44104598 -0.44033449 -0.43962061 -0.43890433 -0.43818565\n",
      " -0.4374646  -0.43674116 -0.43601533 -0.43528714 -0.43455657 -0.43382364\n",
      " -0.43308834 -0.43235068 -0.43161067 -0.4308683  -0.43012359 -0.42937653\n",
      " -0.42862713 -0.4278754  -0.42712133 -0.42636493 -0.42560621 -0.42484516\n",
      " -0.4240818  -0.42331612 -0.42254813 -0.42177784 -0.42100524 -0.42023034\n",
      " -0.41945315 -0.41867366 -0.41789189 -0.41710783 -0.41632149 -0.41553287\n",
      " -0.41474197 -0.41394881 -0.41315338 -0.41235568 -0.41155573 -0.41075352\n",
      " -0.40994906 -0.40914234 -0.40833338 -0.40752218 -0.40670874 -0.40589306\n",
      " -0.40507516 -0.40425502 -0.40343266 -0.40260807 -0.40178127 -0.40095225\n",
      " -0.40012102 -0.39928759 -0.39845195 -0.3976141  -0.39677406 -0.39593183\n",
      " -0.3950874  -0.39424078 -0.39339198 -0.392541   -0.39168784 -0.39083251\n",
      " -0.389975   -0.38911533 -0.38825349 -0.38738948 -0.38652332 -0.38565501\n",
      " -0.38478454 -0.38391192 -0.38303716 -0.38216025 -0.38128121 -0.38040003\n",
      " -0.37951671 -0.37863127 -0.3777437  -0.376854   -0.37596219 -0.37506825\n",
      " -0.37417221 -0.37327405 -0.37237378 -0.37147141 -0.37056693 -0.36966036\n",
      " -0.36875169 -0.36784093 -0.36692808 -0.36601314 -0.36509611 -0.36417701\n",
      " -0.36325583 -0.36233257 -0.36140724 -0.36047984 -0.35955038 -0.35861885\n",
      " -0.35768527 -0.35674962 -0.35581192 -0.35487217 -0.35393038 -0.35298653\n",
      " -0.35204065 -0.35109272 -0.35014276 -0.34919076 -0.34823673 -0.34728068\n",
      " -0.34632259 -0.34536249 -0.34440037 -0.34343622 -0.34247007 -0.3415019\n",
      " -0.34053173 -0.33955955 -0.33858536 -0.33760918 -0.336631   -0.33565082\n",
      " -0.33466865 -0.3336845  -0.33269835 -0.33171022 -0.33072012 -0.32972803\n",
      " -0.32873397 -0.32773793 -0.32673993 -0.32573995 -0.32473802 -0.32373412\n",
      " -0.32272826 -0.32172044 -0.32071067 -0.31969895 -0.31868528 -0.31766966\n",
      " -0.3166521  -0.3156326  -0.31461116 -0.31358778 -0.31256248 -0.31153524\n",
      " -0.31050607 -0.30947497 -0.30844196 -0.30740702 -0.30637017 -0.3053314\n",
      " -0.30429071 -0.30324812 -0.30220362 -0.30115721 -0.30010891 -0.2990587\n",
      " -0.29800659 -0.29695259 -0.2958967  -0.29483891 -0.29377924 -0.29271768\n",
      " -0.29165424 -0.29058892 -0.28952172 -0.28845265 -0.2873817  -0.28630888\n",
      " -0.28523419 -0.28415764 -0.28307923 -0.28199895 -0.28091682 -0.27983282\n",
      " -0.27874698 -0.27765928 -0.27656974 -0.27547834 -0.27438511 -0.27329003\n",
      " -0.27219311 -0.27109435 -0.26999376 -0.26889134 -0.26778709 -0.266681\n",
      " -0.2655731  -0.26446337 -0.26335181 -0.26223844 -0.26112326 -0.26000625\n",
      " -0.25888744 -0.25776682 -0.25664439 -0.25552015 -0.25439411 -0.25326627\n",
      " -0.25213663 -0.2510052  -0.24987197 -0.24873695 -0.24760014 -0.24646155\n",
      " -0.24532116 -0.244179   -0.24303505 -0.24188933 -0.24074183 -0.23959256\n",
      " -0.23844151 -0.23728869 -0.23613411 -0.23497776 -0.23381965 -0.23265978\n",
      " -0.23149814 -0.23033475 -0.22916961 -0.22800271 -0.22683407 -0.22566367\n",
      " -0.22449153 -0.22331764 -0.22214202 -0.22096465 -0.21978554 -0.2186047\n",
      " -0.21742213 -0.21623782 -0.21505178 -0.21386402 -0.21267453 -0.21148332\n",
      " -0.21029038 -0.20909573 -0.20789936 -0.20670128 -0.20550148 -0.20429997\n",
      " -0.20309675 -0.20189183 -0.2006852  -0.19947686 -0.19826683 -0.19705509\n",
      " -0.19584166 -0.19462654 -0.19340972 -0.19219121 -0.19097101 -0.18974913\n",
      " -0.18852556 -0.1873003  -0.18607337 -0.18484475 -0.18361446 -0.1823825\n",
      " -0.18114886 -0.17991355 -0.17867656 -0.17743792 -0.1761976  -0.17495562\n",
      " -0.17371198 -0.17246668 -0.17121973 -0.16997111 -0.16872084 -0.16746892\n",
      " -0.16621535 -0.16496013 -0.16370327 -0.16244475 -0.1611846  -0.15992281\n",
      " -0.15865937 -0.1573943  -0.15612759 -0.15485925 -0.15358928 -0.15231768\n",
      " -0.15104445 -0.14976959 -0.14849311 -0.147215   -0.14593528 -0.14465393\n",
      " -0.14337097 -0.1420864  -0.14080021 -0.13951241 -0.13822299 -0.13693197\n",
      " -0.13563935 -0.13434512 -0.13304928 -0.13175185 -0.13045282 -0.12915218\n",
      " -0.12784996 -0.12654614 -0.12524072 -0.12393372 -0.12262513 -0.12131495\n",
      " -0.12000318 -0.11868983 -0.1173749  -0.11605839 -0.11474031 -0.11342064\n",
      " -0.1120994  -0.11077659 -0.1094522  -0.10812625 -0.10679873 -0.10546964\n",
      " -0.10413899 -0.10280677 -0.10147299 -0.10013766 -0.09880076 -0.09746231\n",
      " -0.09612231 -0.09478075 -0.09343764 -0.09209298 -0.09074677 -0.08939902\n",
      " -0.08804972 -0.08669888 -0.0853465  -0.08399258 -0.08263712 -0.08128013\n",
      " -0.0799216  -0.07856153 -0.07719994 -0.07583682 -0.07447216 -0.07310598\n",
      " -0.07173828 -0.07036905 -0.0689983  -0.06762604 -0.06625225 -0.06487694\n",
      " -0.06350012 -0.06212179 -0.06074194 -0.05936059 -0.05797772 -0.05659335\n",
      " -0.05520747 -0.05382009 -0.0524312  -0.05104081 -0.04964893 -0.04825554\n",
      " -0.04686066 -0.04546428 -0.04406641 -0.04266705 -0.0412662  -0.03986386\n",
      " -0.03846003 -0.03705472 -0.03564792 -0.03423964 -0.03282988 -0.03141863\n",
      " -0.03000591 -0.02859172 -0.02717605 -0.0257589  -0.02434028 -0.0229202\n",
      " -0.02149864 -0.02007561 -0.01865112 -0.01722517 -0.01579775 -0.01436887\n",
      " -0.01293853 -0.01150673 -0.01007347 -0.00863876 -0.0072026  -0.00576498\n",
      " -0.00432591 -0.00288539 -0.00144342  0.        ]\n"
     ]
    },
    {
     "name": "stderr",
     "output_type": "stream",
     "text": [
      "c:\\users\\jonathan\\appdata\\local\\programs\\python\\python37\\lib\\site-packages\\ipykernel_launcher.py:17: RuntimeWarning: divide by zero encountered in log2\n",
      "c:\\users\\jonathan\\appdata\\local\\programs\\python\\python37\\lib\\site-packages\\ipykernel_launcher.py:17: RuntimeWarning: invalid value encountered in multiply\n",
      "c:\\users\\jonathan\\appdata\\local\\programs\\python\\python37\\lib\\site-packages\\ipykernel_launcher.py:6: RuntimeWarning: divide by zero encountered in log\n",
      "  \n"
     ]
    },
    {
     "data": {
      "image/png": "[encoded data removed]",
      "text/plain": [
       "<Figure size 432x288 with 1 Axes>"
      ]
     },
     "metadata": {
      "needs_background": "light"
     },
     "output_type": "display_data"
    }
   ],
   "source": [
    "import numpy.ma as ma\n",
    "\n",
    "# Domain of the parameter p of a Bernoulli rv: p ∈ [0, 1]\n",
    "p = np.linspace(0, 1, 1000)\n",
    "\n",
    "def xln2x(x):\n",
    "    \"\"\" Computes x * log_2(x) in a safe way.\"\"\"\n",
    "    # If x is not a numpy array, it becomes one\n",
    "    if not isinstance(x, np.ndarray):\n",
    "        x = np.array(x)\n",
    "    # STUDENT CODE:\n",
    "    \n",
    "    #np.errstate(divide='ignore')\n",
    "\n",
    "    #xln2x = x * ma.log2(x)\n",
    "    #xln2x = ma.filled(xln2x, 0)\n",
    "    xln2x = x * np.log2(x)\n",
    "    print(xln2x)\n",
    "    return xln2x\n",
    "\n",
    "# STUDENT CODE:\n",
    "# Use the entropy formula you found in Step 1 above.\n",
    "entropy = entropy_normal_distribution(xln2x(p))\n",
    "\n",
    "\n",
    "plt.figure()\n",
    "plt.title(\"Entropy of a Bernoulli random variable\")\n",
    "plt.plot(p, entropy)\n",
    "plt.xlabel(\"Probability of heads\")\n",
    "plt.gca().get_xaxis().set_major_formatter(mtick.PercentFormatter(1.0))\n",
    "plt.ylabel(\"Entropy [bits]\")\n",
    "plt.grid()\n",
    "plt.show()"
   ]
  },
  {
   "cell_type": "markdown",
   "metadata": {
    "ExecuteTime": {
     "end_time": "2021-02-05T11:07:36.677016Z",
     "start_time": "2021-02-05T11:07:36.628770Z"
    }
   },
   "source": [
    "## Entropy of a sequence\n",
    "\n",
    "Let's now make the distinction between the empirical entropy -- the average information in a sequence -- with the information content -- how much information there is in total in a sequence. For instance, a fair coin has an entropy of 1 bit, but when tossed 4 times has an information content of 4 bits (a.k.a a nibble).\n",
    "\n",
    "Now implement a function that calculates the entropy of a binary sequence yourself. First, calcultate the parameter p, then plug it in the formula of the entropy (bernoulli)."
   ]
  },
  {
   "cell_type": "code",
   "execution_count": 4,
   "metadata": {
    "ExecuteTime": {
     "end_time": "2021-02-09T09:38:08.945369Z",
     "start_time": "2021-02-09T09:38:08.927559Z"
    }
   },
   "outputs": [],
   "source": [
    "def binary_entropy(seq):\n",
    "    \"\"\" Returns the empirical entropy of a sequence.\n",
    "    Input values should contain only 0s and 1s.\"\"\"\n",
    "    # If seq is not a numpy array, it becomes one\n",
    "    if not isinstance(seq, np.ndarray):\n",
    "        seq = np.array(seq)\n",
    "    # STUDENT CODE:\n",
    "    return ...\n",
    "\n",
    "assert binary_entropy([0]) == 0, \"Failed test 1\"\n",
    "assert binary_entropy([0, 1]) == 1, \"Failed test 2\"\n",
    "assert binary_entropy([0]*10 + [1]*10) == 1, \"Failed test 3\"\n",
    "assert np.abs(binary_entropy([0] + [1]*8) - 0.50326) < 1e-5, \"Failed test 4\"\n",
    "assert binary_entropy([]) == 0, \"Failed test 5\""
   ]
  },
  {
   "cell_type": "markdown",
   "metadata": {},
   "source": [
    "## Find the animal in 20 questions\n",
    "\n",
    "As a kid, you might have travelled by car over long distances and been bored for hours on end and played this game: find the animal/object in so many questions. Perhaps you just were lucky and played the Sims 2 on a portable PlayStation 2. Whatever.\n",
    "\n",
    "This exercise consists of automating the 20 questions game such that it asks 20 questions (or more or less) to find an animal the player has chosen. When you have kids on your own someday (or already), you can entertain your kids for 12+ hours when you travel.\n",
    "\n",
    "You are given a dataset, the columns correspond to features, the rows to names of animals. A given animal has a set of binary features. For instance, a bear has hair, lactate, is a mammal and predator, has teeth, breathes, and so on.\n",
    "\n",
    "You will have to implement an algorithm that creates a binary decision tree and use this tree to create a questionaire (this step is already done for you below) and find an animal in as few guesses as possible.\n",
    "The algorithm to use is ID3, you can refer to the lecture material to find the algorithm. The measure to use is the entropy. You can try with the information gain if you want to."
   ]
  },
  {
   "cell_type": "code",
   "execution_count": 5,
   "metadata": {
    "ExecuteTime": {
     "end_time": "2021-02-09T09:38:22.356958Z",
     "start_time": "2021-02-09T09:38:22.232210Z"
    }
   },
   "outputs": [
    {
     "data": {
      "text/html": [
       "<div>\n",
       "<style scoped>\n",
       "    .dataframe tbody tr th:only-of-type {\n",
       "        vertical-align: middle;\n",
       "    }\n",
       "\n",
       "    .dataframe tbody tr th {\n",
       "        vertical-align: top;\n",
       "    }\n",
       "\n",
       "    .dataframe thead th {\n",
       "        text-align: right;\n",
       "    }\n",
       "</style>\n",
       "<table border=\"1\" class=\"dataframe\">\n",
       "  <thead>\n",
       "    <tr style=\"text-align: right;\">\n",
       "      <th></th>\n",
       "      <th>is it warm blooded?</th>\n",
       "      <th>can it fly?</th>\n",
       "      <th>is it a vertebrate?</th>\n",
       "      <th>is it endangered?</th>\n",
       "      <th>does it live in groups?</th>\n",
       "      <th>does it have hair?</th>\n",
       "    </tr>\n",
       "  </thead>\n",
       "  <tbody>\n",
       "    <tr>\n",
       "      <th>ant</th>\n",
       "      <td>0</td>\n",
       "      <td>0</td>\n",
       "      <td>0</td>\n",
       "      <td>0</td>\n",
       "      <td>1</td>\n",
       "      <td>0</td>\n",
       "    </tr>\n",
       "    <tr>\n",
       "      <th>bee</th>\n",
       "      <td>0</td>\n",
       "      <td>1</td>\n",
       "      <td>0</td>\n",
       "      <td>0</td>\n",
       "      <td>1</td>\n",
       "      <td>1</td>\n",
       "    </tr>\n",
       "    <tr>\n",
       "      <th>cat</th>\n",
       "      <td>1</td>\n",
       "      <td>0</td>\n",
       "      <td>1</td>\n",
       "      <td>0</td>\n",
       "      <td>0</td>\n",
       "      <td>1</td>\n",
       "    </tr>\n",
       "    <tr>\n",
       "      <th>cpl</th>\n",
       "      <td>0</td>\n",
       "      <td>0</td>\n",
       "      <td>0</td>\n",
       "      <td>0</td>\n",
       "      <td>0</td>\n",
       "      <td>1</td>\n",
       "    </tr>\n",
       "    <tr>\n",
       "      <th>duck</th>\n",
       "      <td>1</td>\n",
       "      <td>1</td>\n",
       "      <td>1</td>\n",
       "      <td>0</td>\n",
       "      <td>1</td>\n",
       "      <td>0</td>\n",
       "    </tr>\n",
       "  </tbody>\n",
       "</table>\n",
       "</div>"
      ],
      "text/plain": [
       "      is it warm blooded?  can it fly?  is it a vertebrate?  \\\n",
       "ant                     0            0                    0   \n",
       "bee                     0            1                    0   \n",
       "cat                     1            0                    1   \n",
       "cpl                     0            0                    0   \n",
       "duck                    1            1                    1   \n",
       "\n",
       "      is it endangered?  does it live in groups?  does it have hair?  \n",
       "ant                   0                        1                   0  \n",
       "bee                   0                        1                   1  \n",
       "cat                   0                        0                   1  \n",
       "cpl                   0                        0                   1  \n",
       "duck                  0                        1                   0  "
      ]
     },
     "execution_count": 5,
     "metadata": {},
     "output_type": "execute_result"
    }
   ],
   "source": [
    "# Download and load the dataset into pandas\n",
    "dataset_url = \"https://raw.githubusercontent.com/earthtojake/20q/master/data/small.csv\"\n",
    "# There is a bigger dataset at\n",
    "#dataset_url = \"https://raw.githubusercontent.com/earthtojake/20q/master/data/big.csv\"\n",
    "df = pd.read_csv(dataset_url, index_col=0)\n",
    "df.head()"
   ]
  },
  {
   "cell_type": "code",
   "execution_count": 6,
   "metadata": {
    "ExecuteTime": {
     "end_time": "2021-02-09T09:38:47.846885Z",
     "start_time": "2021-02-09T09:38:47.774720Z"
    },
    "scrolled": false
   },
   "outputs": [
    {
     "name": "stdout",
     "output_type": "stream",
     "text": [
      "Root\n",
      "└── is it warm blooded?\n",
      "    ├── +is it endangered?\n",
      "    │   ├── +can it fly?\n",
      "    │   │   ├── +eagle\n",
      "    │   │   └── -does it have hair?\n",
      "    │   │       ├── +man\n",
      "    │   │       └── -elephant\n",
      "    │   └── -can it fly?\n",
      "    │       ├── +duck\n",
      "    │       └── -does it live in groups?\n",
      "    │           ├── +rabbit\n",
      "    │           └── -cat\n",
      "    └── -does it live in groups?\n",
      "        ├── +can it fly?\n",
      "        │   ├── +bee\n",
      "        │   └── -is it a vertebrate?\n",
      "        │       ├── +her\n",
      "        │       └── -ant\n",
      "        └── -can it fly?\n",
      "            ├── +fly\n",
      "            └── -is it a vertebrate?\n",
      "                ├── +lizard\n",
      "                └── -cpl\n",
      "\n"
     ]
    }
   ],
   "source": [
    "tree = Tree()\n",
    "tree.create_node(\"Root\", \"root\")  # root node\n",
    "\n",
    "def generate_tree(data, tree, branch=\"\", parent=\"root\"):\n",
    "    \"\"\"Populates the tree with questions and candidate animals.\n",
    "    \n",
    "    Args:\n",
    "        data: The dataset to use\n",
    "        tree: The tree to populate\n",
    "        branch: '+' if the previous condition was true, '-' otherwise.\n",
    "        parent: The parent node, so that we can attach children nodes to it.\n",
    "    \n",
    "    Note: Treelib sorts the name of the nodes by alphabetical order, its important\n",
    "    to name the nodes such that the first one is the result of a positive condition,\n",
    "    the second one, the negative condition. This has been taken care of if you use\n",
    "    the code template by naming the node \"+something\" and \"-something\" (In ASCII, +\n",
    "    (42) is before - (45)).\n",
    "    \"\"\"\n",
    "    # STUDENT CODE:\n",
    "    # Find the column with the highest entropy\n",
    "    entropies = ...\n",
    "    # The columns with a null entropy can be removed\n",
    "    ...\n",
    "    # If there aren't any columns left to discriminate the animals, we stop\n",
    "    # If there is only one animal and plenty of columns, we also stop\n",
    "    no_column_left = ...\n",
    "    one_animal_left = ...\n",
    "    if no_column_left or one_animal_left:\n",
    "        tree.create_node(branch+\", \".join(data.index), parent=parent)\n",
    "        return\n",
    "    # If we are here, it means the data can be split some more.\n",
    "    # entropies might have more columns than the current data, since\n",
    "    # we removed some columns.\n",
    "    ...\n",
    "    # We find the column with the highest entropy\n",
    "    ...\n",
    "    # We add the column to the tree under the current parent\n",
    "    node = tree.create_node(branch + selected_column, parent=parent)\n",
    "    # we split the data by column and remove the said column\n",
    "    ...\n",
    "    \n",
    "    # We generate the branches **recursively**\n",
    "    # If the answer to the question was \"yes\"\n",
    "    generate_tree(data[mask], tree, branch=\"+\", parent=node)\n",
    "    # If the answer to the question was \"false\"\n",
    "    generate_tree(data[~mask], tree, branch=\"-\", parent=node)\n",
    "\n",
    "# The tree is generated\n",
    "generate_tree(df, tree)\n",
    "# The tree is plotted\n",
    "tree.show()"
   ]
  },
  {
   "cell_type": "code",
   "execution_count": 7,
   "metadata": {
    "ExecuteTime": {
     "end_time": "2021-02-09T09:39:01.227691Z",
     "start_time": "2021-02-09T09:39:01.223697Z"
    }
   },
   "outputs": [
    {
     "name": "stdout",
     "output_type": "stream",
     "text": [
      "Depth of the tree: 5\n"
     ]
    }
   ],
   "source": [
    "print(\"Depth of the tree:\", tree.depth())"
   ]
  },
  {
   "cell_type": "code",
   "execution_count": 8,
   "metadata": {
    "ExecuteTime": {
     "end_time": "2021-02-09T09:39:09.359112Z",
     "start_time": "2021-02-09T09:39:05.416230Z"
    }
   },
   "outputs": [
    {
     "name": "stdout",
     "output_type": "stream",
     "text": [
      "Pick an animal!\n",
      "\n",
      "is it warm blooded? n\n",
      "-does it live in groups? n\n",
      "-can it fly? n\n",
      "-is it a vertebrate? y\n",
      "I think you chose a +lizard\n"
     ]
    }
   ],
   "source": [
    "# No need to add code here!\n",
    "# Just run this and enjoy :)\n",
    "def ask_yesno(question):\n",
    "    \"\"\"Checks that the written answer is valid. Iterates otherwise.\"\"\"\n",
    "    while True:\n",
    "        answer = input(question + \" \").lower().strip()\n",
    "        if answer == \"y\" or answer == \"yes\":\n",
    "            return True\n",
    "        if answer == \"n\" or answer == \"no\":\n",
    "            return False\n",
    "        print(\"Just answer 'yes' or 'no'.\")\n",
    "\n",
    "print(\"Pick an animal!\")\n",
    "print()\n",
    "\n",
    "question = tree.children(\"root\")[0]\n",
    "while True:\n",
    "    # Have we found the answer?\n",
    "    if question.is_leaf():\n",
    "        print(\"I think you chose a \" + question.tag)\n",
    "        break\n",
    "    # Otherwise we keep asking\n",
    "    answer = ask_yesno(question.tag)\n",
    "    children = tree.children(question.identifier)\n",
    "    question = children[0] if answer else children[1]"
   ]
  }
 ],
 "metadata": {
  "kernelspec": {
   "display_name": "Python 3",
   "language": "python",
   "name": "python3"
  },
  "language_info": {
   "codemirror_mode": {
    "name": "ipython",
    "version": 3
   },
   "file_extension": ".py",
   "mimetype": "text/x-python",
   "name": "python",
   "nbconvert_exporter": "python",
   "pygments_lexer": "ipython3",
   "version": "3.7.9"
  },
  "varInspector": {
   "cols": {
    "lenName": 16,
    "lenType": 16,
    "lenVar": 40
   },
   "kernels_config": {
    "python": {
     "delete_cmd_postfix": "",
     "delete_cmd_prefix": "del ",
     "library": "var_list.py",
     "varRefreshCmd": "print(var_dic_list())"
    },
    "r": {
     "delete_cmd_postfix": ") ",
     "delete_cmd_prefix": "rm(",
     "library": "var_list.r",
     "varRefreshCmd": "cat(var_dic_list()) "
    }
   },
   "types_to_exclude": [
    "module",
    "function",
    "builtin_function_or_method",
    "instance",
    "_Feature"
   ],
   "window_display": false
  }
 },
 "nbformat": 4,
 "nbformat_minor": 4
}
